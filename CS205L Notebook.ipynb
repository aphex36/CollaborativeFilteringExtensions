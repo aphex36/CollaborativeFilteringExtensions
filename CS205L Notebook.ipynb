{
 "cells": [
  {
   "cell_type": "code",
   "execution_count": 120,
   "metadata": {},
   "outputs": [],
   "source": [
    "import pandas as pd\n",
    "import numpy as np\n",
    "import collections\n",
    "import copy\n",
    "import sklearn.metrics.pairwise as pairwise\n",
    "from sklearn.metrics import pairwise_distances\n",
    "from sklearn.metrics import mean_squared_error\n",
    "from sklearn.decomposition import PCA\n",
    "import matplotlib.pyplot as plt"
   ]
  },
  {
   "cell_type": "markdown",
   "metadata": {},
   "source": [
    "## Dataset Construction"
   ]
  },
  {
   "cell_type": "code",
   "execution_count": 121,
   "metadata": {},
   "outputs": [],
   "source": [
    "NUM_TAGS_USED = 10000\n",
    "NUM_MOVIES = 200\n",
    "NUM_USERS = 400"
   ]
  },
  {
   "cell_type": "code",
   "execution_count": 122,
   "metadata": {},
   "outputs": [
    {
     "name": "stderr",
     "output_type": "stream",
     "text": [
      "/Users/rbais/anaconda3/lib/python3.7/site-packages/ipykernel_launcher.py:1: ParserWarning: Falling back to the 'python' engine because the 'c' engine does not support regex separators (separators > 1 char and different from '\\s+' are interpreted as regex); you can avoid this warning by specifying engine='python'.\n",
      "  \"\"\"Entry point for launching an IPython kernel.\n"
     ]
    }
   ],
   "source": [
    "ratings_data = pd.read_table('data/ratings.dat', delimiter='::')\n",
    "for column in ['UserID', 'MovieID', 'Rating']:\n",
    "    ratings_data[column] = ratings_data[column].astype(int)\n",
    "    \n",
    "used_movie_ids = ratings_data['MovieID'].value_counts().index.tolist()[:NUM_MOVIES]\n",
    "ratings_data = ratings_data[ratings_data['MovieID'].isin(used_movie_ids)]\n",
    "\n",
    "movie_ids = sorted(ratings_data['MovieID'].unique())\n",
    "movieIDDictionary = {tag: i for i, tag in enumerate(movie_ids)}\n",
    "ratings_data['MovieID'] = (ratings_data['MovieID'].map(movieIDDictionary)).astype(int)\n",
    "ratings_data = ratings_data[ratings_data['MovieID'] < NUM_MOVIES]"
   ]
  },
  {
   "cell_type": "code",
   "execution_count": 123,
   "metadata": {},
   "outputs": [],
   "source": [
    "used_User_ids = ratings_data['UserID'].value_counts().index.tolist()[:NUM_USERS]\n",
    "ratings_data = ratings_data[ratings_data['UserID'].isin(used_User_ids)]\n",
    "\n",
    "User_ids = sorted(ratings_data['UserID'].unique())\n",
    "UserIDDictionary = {tag: i for i, tag in enumerate(User_ids)}\n",
    "ratings_data['UserID'] = (ratings_data['UserID'].map(UserIDDictionary)).astype(int)\n",
    "ratings_data = ratings_data[ratings_data['UserID'] < NUM_USERS]"
   ]
  },
  {
   "cell_type": "code",
   "execution_count": 124,
   "metadata": {},
   "outputs": [
    {
     "name": "stderr",
     "output_type": "stream",
     "text": [
      "/Users/rbais/anaconda3/lib/python3.7/site-packages/ipykernel_launcher.py:1: ParserWarning: Falling back to the 'python' engine because the 'c' engine does not support regex separators (separators > 1 char and different from '\\s+' are interpreted as regex); you can avoid this warning by specifying engine='python'.\n",
      "  \"\"\"Entry point for launching an IPython kernel.\n"
     ]
    }
   ],
   "source": [
    "movies_data = pd.read_table('data/movies.dat', delimiter='::')\n",
    "movie_id_to_title = {}\n",
    "for index, row in movies_data.iterrows():\n",
    "    if int(row['MovieID']) in movieIDDictionary:\n",
    "        movie_id_to_title[movieIDDictionary[int(row['MovieID'])]] = row['MovieTitle']"
   ]
  },
  {
   "cell_type": "code",
   "execution_count": 125,
   "metadata": {},
   "outputs": [
    {
     "name": "stderr",
     "output_type": "stream",
     "text": [
      "/Users/rbais/anaconda3/lib/python3.7/site-packages/ipykernel_launcher.py:1: ParserWarning: Falling back to the 'python' engine because the 'c' engine does not support regex separators (separators > 1 char and different from '\\s+' are interpreted as regex); you can avoid this warning by specifying engine='python'.\n",
      "  \"\"\"Entry point for launching an IPython kernel.\n"
     ]
    }
   ],
   "source": [
    "tags_data = pd.read_table('data/tags.dat', delimiter='::')\n",
    "tags_data['tag'] = tags_data['tag'].astype(str).str.lower().str.strip()\n",
    "tags = sorted(tags_data['tag'].unique())\n",
    "\n",
    "used_tags = tags_data['tag'].value_counts().index.tolist()[:NUM_TAGS_USED]\n",
    "tags_data = tags_data[tags_data['tag'].isin(used_tags)]\n",
    "\n",
    "tags_data['tag'] = tags_data['tag'].astype(str).str.lower().str.strip()\n",
    "\n",
    "tags = sorted(tags_data['tag'].unique())\n",
    "tagDictionary = {tag: i for i, tag in enumerate(tags)}\n",
    "tags_data['tagID'] = (tags_data['tag'].map(tagDictionary)).astype(int)\n",
    "#tags_data = tags_data[tags_data['movieID']]\n",
    "tags_data['movieID'] = (tags_data['movieID'].map(movieIDDictionary))\n",
    "tags_data = tags_data.dropna()\n",
    "tags_data['movieID'] = tags_data['movieID'].astype(int)\n",
    "tags_data = tags_data[tags_data['movieID'] < NUM_MOVIES]\n",
    "\n",
    "Rmt = np.zeros((NUM_MOVIES, NUM_TAGS_USED))\n",
    "for i, row in tags_data.iterrows():\n",
    "    Rmt[row['movieID'] - 1][row['tagID'] - 1] = 1"
   ]
  },
  {
   "cell_type": "code",
   "execution_count": 126,
   "metadata": {},
   "outputs": [],
   "source": [
    "ratings_data.shape\n",
    "ratings_data.to_csv('data/reduced_ratings.csv')"
   ]
  },
  {
   "cell_type": "code",
   "execution_count": 127,
   "metadata": {},
   "outputs": [
    {
     "data": {
      "text/plain": [
       "\"\\nnum_movies = max(ratings_data['MovieID'])\\nnum_users = max(ratings_data['UserID'])\\n\\nreduced_ratings_data = ratings_data[(ratings_data['MovieID'] < NUM_MOVIES + 1) & (ratings_data['UserID'] < NUM_USERS + 1)]\\nreduced_ratings_data.to_csv('data/reduced_ratings.csv')\\n\""
      ]
     },
     "execution_count": 127,
     "metadata": {},
     "output_type": "execute_result"
    }
   ],
   "source": [
    "\"\"\"\n",
    "num_movies = max(ratings_data['MovieID'])\n",
    "num_users = max(ratings_data['UserID'])\n",
    "\n",
    "reduced_ratings_data = ratings_data[(ratings_data['MovieID'] < NUM_MOVIES + 1) & (ratings_data['UserID'] < NUM_USERS + 1)]\n",
    "reduced_ratings_data.to_csv('data/reduced_ratings.csv')\n",
    "\"\"\""
   ]
  },
  {
   "cell_type": "code",
   "execution_count": 128,
   "metadata": {},
   "outputs": [],
   "source": [
    "reduced_ratings_data = pd.read_csv('data/reduced_ratings.csv')\n",
    "Rmu = np.zeros((NUM_MOVIES, NUM_USERS))\n",
    "for i, row in reduced_ratings_data.iterrows(): \n",
    "    Rmu[row['MovieID'] - 1][row['UserID'] - 1] = row['Rating']"
   ]
  },
  {
   "cell_type": "markdown",
   "metadata": {},
   "source": [
    "## Baseline Collaborative Filtering"
   ]
  },
  {
   "cell_type": "code",
   "execution_count": 129,
   "metadata": {},
   "outputs": [],
   "source": [
    "np.random.seed(88)\n",
    "\n",
    "non_zero_movies_indeces, non_zero_users_indeces = np.nonzero(Rmu) #Movie to Users\n",
    "non_zero_ratings_indeces = [(i, j) for i, j in zip(non_zero_movies_indeces, non_zero_users_indeces)]\n",
    "blanked_ratings = [non_zero_ratings_indeces[random_i] for random_i in np.random.choice(len(non_zero_ratings_indeces), int(len(non_zero_ratings_indeces)/10),  replace=False)]\n",
    "    \n",
    "def collaborative_filtering(Rmu, Muu, Mtt, alpha=0.5, beta=0.5):\n",
    "    assert(Rmu.shape == (NUM_MOVIES, NUM_USERS))\n",
    "    assert(Muu.shape[0] == Rmu.shape[0])\n",
    "    assert(Mtt.shape[0] == Rmu.shape[0])\n",
    "    \n",
    "    assert(alpha+beta == 1)\n",
    "    \n",
    "    Suu = 1 - pairwise_distances(Muu, metric=\"cosine\")\n",
    "    Stt = 1 - pairwise_distances(Mtt, metric=\"cosine\")\n",
    "\n",
    "    actual_ratings = [Rmu[idx] for idx in blanked_ratings]\n",
    "    \n",
    "    actual_used_ratings = []\n",
    "    predicted_ratings = []\n",
    "    \n",
    "    for i, (movie_idx, user_idx) in enumerate(blanked_ratings):\n",
    "        #most_similar_movies = np.argsort(-Smm[movie_idx])\n",
    "    \n",
    "        similarity_sum = 0\n",
    "        weighted_ratings_sum = 0\n",
    "        for similar_movie_idx in range(NUM_MOVIES): #most_similar_movies\n",
    "            if actual_ratings[similar_movie_idx] == 0:\n",
    "                continue\n",
    "                \n",
    "            if similar_movie_idx != movie_idx:\n",
    "                #import pdb; pdb.set_trace()\n",
    "                similarity = alpha * Suu[movie_idx][similar_movie_idx] + beta * Stt[movie_idx][similar_movie_idx]\n",
    "                similarity_sum += similarity\n",
    "                weighted_ratings_sum += actual_ratings[similar_movie_idx] * similarity\n",
    "        \n",
    "        pred_rating = weighted_ratings_sum / similarity_sum\n",
    "        if pred_rating >= 1 and pred_rating <= 5:\n",
    "            actual_used_ratings.append(actual_ratings[i])\n",
    "            predicted_ratings.append(pred_rating)\n",
    "    return mean_squared_error(predicted_ratings, actual_used_ratings)"
   ]
  },
  {
   "cell_type": "code",
   "execution_count": 130,
   "metadata": {},
   "outputs": [
    {
     "name": "stdout",
     "output_type": "stream",
     "text": [
      "alpha: 0.0, beta: 1.0\n",
      "Baseline Performance:  1.0175792025175758\n",
      "Performance with PCA n_components=3: 1.123923\n",
      "Performance with PCA n_components=5: 1.161213\n",
      "Performance with PCA n_components=10: 1.131266\n",
      "Performance with PCA n_components=25: 1.157477\n",
      "Performance with PCA n_components=50: 1.179928\n",
      "alpha: 0.2, beta: 0.8\n",
      "Baseline Performance:  1.0049549541586613\n",
      "Performance with PCA n_components=3: 1.097570\n",
      "Performance with PCA n_components=5: 1.065128\n",
      "Performance with PCA n_components=10: 1.021121\n",
      "Performance with PCA n_components=25: 1.018249\n",
      "Performance with PCA n_components=50: 1.020021\n",
      "alpha: 0.4, beta: 0.6\n",
      "Baseline Performance:  1.0055048698753635\n",
      "Performance with PCA n_components=3: 1.010643\n",
      "Performance with PCA n_components=5: 1.000229\n",
      "Performance with PCA n_components=10: 1.006605\n",
      "Performance with PCA n_components=25: 1.008125\n",
      "Performance with PCA n_components=50: 1.011005\n",
      "alpha: 0.6, beta: 0.4\n",
      "Baseline Performance:  1.0057635570294519\n",
      "Performance with PCA n_components=3: 1.007780\n",
      "Performance with PCA n_components=5: 1.002397\n",
      "Performance with PCA n_components=10: 1.006116\n",
      "Performance with PCA n_components=25: 1.007102\n",
      "Performance with PCA n_components=50: 1.008089\n",
      "alpha: 0.8, beta: 0.2\n",
      "Baseline Performance:  1.0059122003137193\n",
      "Performance with PCA n_components=3: 1.006689\n",
      "Performance with PCA n_components=5: 1.004465\n",
      "Performance with PCA n_components=10: 1.006000\n",
      "Performance with PCA n_components=25: 1.006389\n",
      "Performance with PCA n_components=50: 1.006895\n",
      "alpha: 1.0, beta: 0.0\n",
      "Baseline Performance:  1.0060084808076784\n",
      "Performance with PCA n_components=3: 1.006008\n",
      "Performance with PCA n_components=5: 1.006008\n",
      "Performance with PCA n_components=10: 1.006008\n",
      "Performance with PCA n_components=25: 1.006008\n",
      "Performance with PCA n_components=50: 1.006008\n"
     ]
    }
   ],
   "source": [
    "alphas = [a / 5.0 for a in range(0, 6)]\n",
    "num_component_hyperparams = [3, 5, 10, 25, 50]\n",
    "RMSE_baseline = []\n",
    "RMSE_hyperparam_vals = np.zeros((len(num_component_hyperparams), len(alphas)))\n",
    "\n",
    "for a in range(0, 6):\n",
    "    alpha = a / 5.0\n",
    "    beta = 1.0 - alpha\n",
    "    print ('alpha: %.1f, beta: %.1f' %(alpha, beta))\n",
    "    \n",
    "    rmse_baseline = collaborative_filtering(Rmu, Rmu, Rmt, alpha = alpha, beta = beta)\n",
    "    print ('Baseline Performance: ', rmse_baseline)\n",
    "    RMSE_baseline.append(rmse_baseline)\n",
    "    \n",
    "    for i, n in enumerate(num_component_hyperparams):\n",
    "        pca_Rmt = PCA(n_components=n).fit_transform(Rmt)\n",
    "        #pca_Rmu = PCA(n_components=n).fit_transform(Rmu)\n",
    "        rmse_pca = collaborative_filtering(Rmu, Rmu, pca_Rmt, alpha = alpha, beta = beta)\n",
    "        \n",
    "        RMSE_hyperparam_vals[i][a] = rmse_pca\n",
    "        print ('Performance with PCA n_components=%d: %f' %(n, rmse_pca))"
   ]
  },
  {
   "cell_type": "code",
   "execution_count": 131,
   "metadata": {},
   "outputs": [
    {
     "data": {
      "text/plain": [
       "Text(0.5, 1.0, 'RMSE using PCA on Tag Matrix')"
      ]
     },
     "execution_count": 131,
     "metadata": {},
     "output_type": "execute_result"
    },
    {
     "data": {
      "image/png": "[encoded data removed]",
      "text/plain": [
       "<Figure size 432x288 with 1 Axes>"
      ]
     },
     "metadata": {
      "needs_background": "light"
     },
     "output_type": "display_data"
    }
   ],
   "source": [
    "betas = [1 - alpha for alpha in alphas]\n",
    "#plt.plot(betas, RMSE_baseline)\n",
    "for i in range(len(num_component_hyperparams)):\n",
    "    plt.plot(betas, RMSE_hyperparam_vals[i])\n",
    "plt.legend(['PCA, n=%d' %(n) for i, n in enumerate(num_component_hyperparams)])\n",
    "plt.xlabel('Beta')\n",
    "plt.ylabel('RMSE')\n",
    "plt.title('RMSE using PCA on Tag Matrix')"
   ]
  },
  {
   "cell_type": "code",
   "execution_count": 132,
   "metadata": {},
   "outputs": [
    {
     "data": {
      "text/plain": [
       "Text(0.5, 1.0, 'Baseline on Tag Matrix RMSE')"
      ]
     },
     "execution_count": 132,
     "metadata": {},
     "output_type": "execute_result"
    },
    {
     "data": {
      "image/png": "[encoded data removed]",
      "text/plain": [
       "<Figure size 432x288 with 1 Axes>"
      ]
     },
     "metadata": {
      "needs_background": "light"
     },
     "output_type": "display_data"
    }
   ],
   "source": [
    "plt.plot(betas, RMSE_baseline)\n",
    "plt.xlabel('Beta')\n",
    "plt.ylabel('RMSE')\n",
    "plt.title('Baseline on Tag Matrix RMSE')"
   ]
  },
  {
   "cell_type": "code",
   "execution_count": 133,
   "metadata": {},
   "outputs": [
    {
     "data": {
      "text/plain": [
       "Text(0.5, 1.0, 'RMSE by Number of PCA Components')"
      ]
     },
     "execution_count": 133,
     "metadata": {},
     "output_type": "execute_result"
    },
    {
     "data": {
      "image/png": "[encoded data removed]",
      "text/plain": [
       "<Figure size 432x288 with 1 Axes>"
      ]
     },
     "metadata": {
      "needs_background": "light"
     },
     "output_type": "display_data"
    }
   ],
   "source": [
    "y = []\n",
    "for i in range(len(num_component_hyperparams)):\n",
    "    y.append(RMSE_hyperparam_vals[i][1])\n",
    "    \n",
    "plt.scatter([n for i, n in enumerate(num_component_hyperparams)], y)\n",
    "plt.plot([n for i, n in enumerate(num_component_hyperparams)], y)\n",
    "plt.xlabel('Number of PCA Components')\n",
    "plt.ylabel('RMSE')\n",
    "plt.title('RMSE by Number of PCA Components')"
   ]
  },
  {
   "cell_type": "code",
   "execution_count": 134,
   "metadata": {},
   "outputs": [
    {
     "name": "stdout",
     "output_type": "stream",
     "text": [
      "1.097570403115554\n"
     ]
    },
    {
     "data": {
      "text/plain": [
       "1.0211213638951127"
      ]
     },
     "execution_count": 134,
     "metadata": {},
     "output_type": "execute_result"
    }
   ],
   "source": [
    "print (RMSE_hyperparam_vals[0][1])\n",
    "RMSE_hyperparam_vals[1][1]\n",
    "RMSE_hyperparam_vals[2][1]"
   ]
  },
  {
   "cell_type": "code",
   "execution_count": 135,
   "metadata": {},
   "outputs": [
    {
     "data": {
      "text/plain": [
       "6"
      ]
     },
     "execution_count": 135,
     "metadata": {},
     "output_type": "execute_result"
    }
   ],
   "source": [
    "len(RMSE_hyperparam_vals[0])"
   ]
  },
  {
   "cell_type": "code",
   "execution_count": 136,
   "metadata": {},
   "outputs": [
    {
     "name": "stdout",
     "output_type": "stream",
     "text": [
      "(200, 10000)\n",
      "(200, 7)\n"
     ]
    }
   ],
   "source": [
    "from sklearn.decomposition import FactorAnalysis\n",
    "print (Rmt.shape)\n",
    "transformer = FactorAnalysis(n_components=7, random_state=0)\n",
    "Rmt_transformed = transformer.fit_transform(Rmt)\n",
    "print (Rmt_transformed.shape)"
   ]
  },
  {
   "cell_type": "code",
   "execution_count": 137,
   "metadata": {},
   "outputs": [
    {
     "name": "stdout",
     "output_type": "stream",
     "text": [
      "{0: 'Toy Story (1995)', 1: 'Jumanji (1995)', 2: 'Heat (1995)', 3: 'GoldenEye (1995)', 4: 'American President, The (1995)', 5: 'Casino (1995)', 6: 'Sense and Sensibility (1995)', 7: 'Ace Ventura: When Nature Calls (1995)', 8: 'Get Shorty (1995)', 9: 'Leaving Las Vegas (1995)', 10: '12 Monkeys (Twelve Monkeys) (1995)', 11: 'Babe (1995)', 12: 'Dead Man Walking (1995)', 13: 'Clueless (1995)', 14: 'Seven (a.k.a. Se7en) (1995)', 15: 'Usual Suspects, The (1995)', 16: \"Mr. Holland's Opus (1995)\", 17: 'Broken Arrow (1996)', 18: 'Happy Gilmore (1996)', 19: 'Braveheart (1995)', 20: 'Taxi Driver (1976)', 21: 'Birdcage, The (1996)', 22: 'Apollo 13 (1995)', 23: 'Batman Forever (1995)', 24: 'Crimson Tide (1995)', 25: 'Die Hard: With a Vengeance (1995)', 26: 'Net, The (1995)', 27: 'Waterworld (1995)', 28: 'Clerks (1994)', 29: 'Dumb & Dumber (1994)', 30: 'Ed Wood (1994)', 31: 'Interview with the Vampire: The Vampire Chronicles (1994)', 32: 'Star Wars: Episode IV - A New Hope (a.k.a. Star Wars) (1977)', 33: 'Legends of the Fall (1994)', 34: 'Natural Born Killers (1994)', 35: 'Outbreak (1995)', 36: 'Léon: The Professional (Léon) (Professional, The) (1994)', 37: 'Pulp Fiction (1994)', 38: 'Quiz Show (1994)', 39: 'Stargate (1994)', 40: 'Santa Clause, The (1994)', 41: 'Shawshank Redemption, The (1994)', 42: 'Star Trek: Generations (1994)', 43: \"What's Eating Gilbert Grape (1993)\", 44: 'While You Were Sleeping (1995)', 45: 'Ace Ventura: Pet Detective (1994)', 46: 'Clear and Present Danger (1994)', 47: 'Client, The (1994)', 48: 'Crow, The (1994)', 49: 'Forrest Gump (1994)', 50: 'Four Weddings and a Funeral (1994)', 51: 'Lion King, The (1994)', 52: 'Mask, The (1994)', 53: 'Maverick (1994)', 54: 'Speed (1994)', 55: 'True Lies (1994)', 56: 'Addams Family Values (1993)', 57: 'Cliffhanger (1993)', 58: 'Dave (1993)', 59: 'Demolition Man (1993)', 60: 'Firm, The (1993)', 61: 'Fugitive, The (1993)', 62: 'In the Line of Fire (1993)', 63: 'Jurassic Park (1993)', 64: 'Mrs. Doubtfire (1993)', 65: 'Philadelphia (1993)', 66: 'Piano, The (1993)', 67: \"Schindler's List (1993)\", 68: 'Sleepless in Seattle (1993)', 69: 'Blade Runner (1982)', 70: 'Nightmare Before Christmas, The (1993)', 71: 'Home Alone (1990)', 72: 'Ghost (1990)', 73: 'Aladdin (1992)', 74: 'Terminator 2: Judgment Day (1991)', 75: 'Dances with Wolves (1990)', 76: 'Batman (1989)', 77: 'Silence of the Lambs, The (1991)', 78: 'Snow White and the Seven Dwarfs (1937)', 79: 'Beauty and the Beast (1991)', 80: 'Pretty Woman (1990)', 81: 'Fargo (1996)', 82: 'Mission: Impossible (1996)', 83: 'Truth About Cats & Dogs, The (1996)', 84: 'Rock, The (1996)', 85: 'Twister (1996)', 86: 'Dr. Strangelove or: How I Learned to Stop Worrying and Love the Bomb (1964)', 87: 'Trainspotting (1996)', 88: 'Independence Day (a.k.a. ID4) (1996)', 89: 'Eraser (1996)', 90: 'Nutty Professor, The (1996)', 91: 'Godfather, The (1972)', 92: 'Casablanca (1942)', 93: 'Wizard of Oz, The (1939)', 94: 'Citizen Kane (1941)', 95: '2001: A Space Odyssey (1968)', 96: 'Die Hard (1988)', 97: 'Willy Wonka & the Chocolate Factory (1971)', 98: 'Fish Called Wanda, A (1988)', 99: \"Monty Python's Life of Brian (1979)\", 100: 'Reservoir Dogs (1992)', 101: 'E.T. the Extra-Terrestrial (1982)', 102: 'Top Gun (1986)', 103: 'Abyss, The (1989)', 104: 'Monty Python and the Holy Grail (1975)', 105: \"One Flew Over the Cuckoo's Nest (1975)\", 106: 'Star Wars: Episode V - The Empire Strikes Back (1980)', 107: 'Princess Bride, The (1987)', 108: 'Raiders of the Lost Ark (Indiana Jones and the Raiders of the Lost Ark) (1981)', 109: 'Aliens (1986)', 110: 'Clockwork Orange, A (1971)', 111: 'Apocalypse Now (1979)', 112: 'Star Wars: Episode VI - Return of the Jedi (1983)', 113: 'Goodfellas (1990)', 114: 'Alien (1979)', 115: 'Psycho (1960)', 116: 'Blues Brothers, The (1980)', 117: 'Godfather: Part II, The (1974)', 118: 'Full Metal Jacket (1987)', 119: 'Amadeus (1984)', 120: 'Terminator, The (1984)', 121: 'Dead Poets Society (1989)', 122: 'Shining, The (1980)', 123: 'Stand by Me (1986)', 124: 'Groundhog Day (1993)', 125: 'Back to the Future (1985)', 126: 'Indiana Jones and the Last Crusade (1989)', 127: 'When Harry Met Sally... (1989)', 128: 'Star Trek: First Contact (1996)', 129: 'Star Trek II: The Wrath of Khan (1982)', 130: 'Jaws (1975)', 131: 'Mars Attacks! (1996)', 132: 'Jerry Maguire (1996)', 133: 'Scream (1996)', 134: 'Liar Liar (1997)', 135: 'Austin Powers: International Man of Mystery (1997)', 136: 'Fifth Element, The (1997)', 137: 'Face/Off (1997)', 138: 'Men in Black (1997)', 139: 'Contact (1997)', 140: 'Hunt for Red October, The (1990)', 141: 'L.A. Confidential (1997)', 142: 'Gattaca (1997)', 143: 'Truman Show, The (1998)', 144: 'Good Will Hunting (1997)', 145: 'Titanic (1997)', 146: 'Big Lebowski, The (1998)', 147: 'As Good As It Gets (1997)', 148: 'Armageddon (1998)', 149: \"There's Something About Mary (1998)\", 150: 'Rain Man (1988)', 151: 'Breakfast Club, The (1985)', 152: 'Lethal Weapon (1987)', 153: 'Back to the Future Part II (1989)', 154: 'Back to the Future Part III (1990)', 155: 'Saving Private Ryan (1998)', 156: 'Honey, I Shrunk the Kids (1989)', 157: 'Indiana Jones and the Temple of Doom (1984)', 158: 'Beetlejuice (1988)', 159: 'Edward Scissorhands (1990)', 160: 'American History X (1998)', 161: \"Bug's Life, A (1998)\", 162: 'Shakespeare in Love (1998)', 163: 'Office Space (1999)', 164: 'Matrix, The (1999)', 165: 'Star Wars: Episode I - The Phantom Menace (1999)', 166: 'Austin Powers: The Spy Who Shagged Me (1999)', 167: 'South Park: Bigger, Longer and Uncut (1999)', 168: 'American Pie (1999)', 169: 'Blair Witch Project, The (1999)', 170: 'Ghostbusters (a.k.a. Ghost Busters) (1984)', 171: 'Sixth Sense, The (1999)', 172: 'Airplane! (1980)', 173: 'Big (1988)', 174: 'American Beauty (1999)', 175: 'Total Recall (1990)', 176: \"Ferris Bueller's Day Off (1986)\", 177: 'Fight Club (1999)', 178: 'Who Framed Roger Rabbit? (1988)', 179: 'Being John Malkovich (1999)', 180: 'Toy Story 2 (1999)', 181: 'Green Mile, The (1999)', 182: 'Gladiator (2000)', 183: 'X-Men (2000)', 184: 'Almost Famous (2000)', 185: 'Crouching Tiger, Hidden Dragon (Wu hu zang long) (2000)', 186: 'O Brother, Where Art Thou? (2000)', 187: 'Memento (2000)', 188: 'Shrek (2001)', 189: 'Monsters, Inc. (2001)', 190: \"Ocean's Eleven (2001)\", 191: \"Amelie (Fabuleux destin d'Amélie Poulain, Le) (2001)\", 192: 'Lord of the Rings: The Fellowship of the Ring, The (2001)', 193: 'Beautiful Mind, A (2001)', 194: 'Spider-Man (2002)', 195: 'Minority Report (2002)', 196: 'Lord of the Rings: The Two Towers, The (2002)', 197: 'Finding Nemo (2003)', 198: 'Pirates of the Caribbean: The Curse of the Black Pearl (2003)', 199: 'Lord of the Rings: The Return of the King, The (2003)'}\n"
     ]
    }
   ],
   "source": [
    "print(movie_id_to_title)"
   ]
  },
  {
   "cell_type": "code",
   "execution_count": 138,
   "metadata": {},
   "outputs": [],
   "source": [
    "# Given movie to item matrix get the movie movie adjacency\n",
    "def get_movie_adjacency(Mmi):\n",
    "    newM = np.zeros((len(Mmi), len(Mmi)))\n",
    "    for i in range(len(Mmi)):\n",
    "        for j in range(len(Mmi)):\n",
    "            emb_1 = Mmi[i,:]\n",
    "            emb_2 = Mmi[j,:]\n",
    "            cos_score = np.dot(emb_1, emb_2) / (np.linalg.norm(emb_1) * np.linalg.norm(emb_2))\n",
    "            newM[i,j] = cos_score\n",
    "    return newM\n",
    "    "
   ]
  },
  {
   "cell_type": "code",
   "execution_count": 139,
   "metadata": {},
   "outputs": [],
   "source": [
    "M_tt = get_movie_adjacency(Rmt)\n",
    "M_uu = get_movie_adjacency(Rmu)"
   ]
  },
  {
   "cell_type": "code",
   "execution_count": 140,
   "metadata": {},
   "outputs": [],
   "source": [
    "W = M_tt"
   ]
  },
  {
   "cell_type": "code",
   "execution_count": 141,
   "metadata": {},
   "outputs": [],
   "source": [
    "D = np.diag(W.sum(axis=1))"
   ]
  },
  {
   "cell_type": "code",
   "execution_count": 142,
   "metadata": {},
   "outputs": [],
   "source": [
    "L = D - W"
   ]
  },
  {
   "cell_type": "code",
   "execution_count": 143,
   "metadata": {},
   "outputs": [],
   "source": [
    "w, v = np.linalg.eigh(L)"
   ]
  },
  {
   "cell_type": "code",
   "execution_count": null,
   "metadata": {},
   "outputs": [],
   "source": []
  },
  {
   "cell_type": "code",
   "execution_count": 144,
   "metadata": {},
   "outputs": [],
   "source": [
    "from sklearn.manifold import TSNE\n",
    "m_embeds = TSNE(n_components=2, n_iter=10000).fit_transform(v)"
   ]
  },
  {
   "cell_type": "code",
   "execution_count": null,
   "metadata": {},
   "outputs": [],
   "source": []
  },
  {
   "cell_type": "markdown",
   "metadata": {},
   "source": []
  },
  {
   "cell_type": "code",
   "execution_count": 145,
   "metadata": {},
   "outputs": [
    {
     "data": {
      "text/plain": [
       "<matplotlib.collections.PathCollection at 0x1a229f6f28>"
      ]
     },
     "execution_count": 145,
     "metadata": {},
     "output_type": "execute_result"
    },
    {
     "data": {
      "image/png": "[encoded data removed]",
      "text/plain": [
       "<Figure size 432x288 with 1 Axes>"
      ]
     },
     "metadata": {
      "needs_background": "light"
     },
     "output_type": "display_data"
    }
   ],
   "source": [
    "plt.scatter(m_embeds[:,0], m_embeds[:,1])"
   ]
  },
  {
   "cell_type": "code",
   "execution_count": 146,
   "metadata": {},
   "outputs": [],
   "source": [
    "from sklearn.decomposition import TruncatedSVD"
   ]
  },
  {
   "cell_type": "code",
   "execution_count": 147,
   "metadata": {},
   "outputs": [
    {
     "name": "stdout",
     "output_type": "stream",
     "text": [
      "alpha: 0.0, beta: 1.0\n",
      "Baseline Performance:  1.0175792025175758\n",
      "Performance with SVD n_components=3: 1.005620\n",
      "Performance with SVD n_components=5: 1.018930\n",
      "Performance with SVD n_components=10: 1.014248\n",
      "Performance with SVD n_components=25: 1.017244\n",
      "Performance with SVD n_components=50: 1.022362\n",
      "alpha: 0.2, beta: 0.8\n",
      "Baseline Performance:  1.0049549541586613\n",
      "Performance with SVD n_components=3: 1.005797\n",
      "Performance with SVD n_components=5: 1.014333\n",
      "Performance with SVD n_components=10: 1.009235\n",
      "Performance with SVD n_components=25: 1.007941\n",
      "Performance with SVD n_components=50: 1.006526\n",
      "alpha: 0.4, beta: 0.6\n",
      "Baseline Performance:  1.0055048698753635\n",
      "Performance with SVD n_components=3: 1.005897\n",
      "Performance with SVD n_components=5: 1.011241\n",
      "Performance with SVD n_components=10: 1.007496\n",
      "Performance with SVD n_components=25: 1.006628\n",
      "Performance with SVD n_components=50: 1.005928\n",
      "alpha: 0.6, beta: 0.4\n",
      "Baseline Performance:  1.0057635570294519\n",
      "Performance with SVD n_components=3: 1.005955\n",
      "Performance with SVD n_components=5: 1.009010\n",
      "Performance with SVD n_components=10: 1.006680\n",
      "Performance with SVD n_components=25: 1.006221\n",
      "Performance with SVD n_components=50: 1.005893\n",
      "alpha: 0.8, beta: 0.2\n",
      "Baseline Performance:  1.0059122003137193\n",
      "Performance with SVD n_components=3: 1.005989\n",
      "Performance with SVD n_components=5: 1.007324\n",
      "Performance with SVD n_components=10: 1.006248\n",
      "Performance with SVD n_components=25: 1.006067\n",
      "Performance with SVD n_components=50: 1.005945\n",
      "alpha: 1.0, beta: 0.0\n",
      "Baseline Performance:  1.0060084808076784\n",
      "Performance with SVD n_components=3: 1.006008\n",
      "Performance with SVD n_components=5: 1.006008\n",
      "Performance with SVD n_components=10: 1.006008\n",
      "Performance with SVD n_components=25: 1.006008\n",
      "Performance with SVD n_components=50: 1.006008\n"
     ]
    }
   ],
   "source": [
    "alphas = [a / 5.0 for a in range(0, 6)]\n",
    "num_component_hyperparams = [3, 5, 10, 25, 50]\n",
    "RMSE_baseline = []\n",
    "RMSE_hyperparam_vals = np.zeros((len(num_component_hyperparams), len(alphas)))\n",
    "\n",
    "for a in range(0, 6):\n",
    "    alpha = a / 5.0\n",
    "    beta = 1.0 - alpha\n",
    "    print ('alpha: %.1f, beta: %.1f' %(alpha, beta))\n",
    "    \n",
    "    rmse_baseline = collaborative_filtering(Rmu, Rmu, Rmt, alpha = alpha, beta = beta)\n",
    "    print ('Baseline Performance: ', rmse_baseline)\n",
    "    RMSE_baseline.append(rmse_baseline)\n",
    "    \n",
    "    for i, n in enumerate(num_component_hyperparams):\n",
    "        svd = TruncatedSVD(n_components=n, n_iter=100, random_state=42)\n",
    "        Rmt_red = svd.fit_transform(Rmt)\n",
    "        rmse_svd = collaborative_filtering(Rmu, Rmu, Rmt_red, alpha = alpha, beta = beta)\n",
    "        \n",
    "        RMSE_hyperparam_vals[i][a] = rmse_svd\n",
    "        print ('Performance with SVD n_components=%d: %f' %(n, rmse_svd))"
   ]
  },
  {
   "cell_type": "code",
   "execution_count": 148,
   "metadata": {},
   "outputs": [
    {
     "data": {
      "text/plain": [
       "Text(0.5, 1.0, 'RMSE using SVD on Tag Matrix')"
      ]
     },
     "execution_count": 148,
     "metadata": {},
     "output_type": "execute_result"
    },
    {
     "data": {
      "image/png": "[encoded data removed]",
      "text/plain": [
       "<Figure size 432x288 with 1 Axes>"
      ]
     },
     "metadata": {
      "needs_background": "light"
     },
     "output_type": "display_data"
    }
   ],
   "source": [
    "betas = [1 - alpha for alpha in alphas]\n",
    "#plt.plot(betas, RMSE_baseline)\n",
    "for i in range(len(num_component_hyperparams)):\n",
    "    plt.plot(betas, RMSE_hyperparam_vals[i])\n",
    "plt.legend(['SVD, n=%d' %(n) for i, n in enumerate(num_component_hyperparams)])\n",
    "plt.xlabel('Beta')\n",
    "plt.ylabel('RMSE')\n",
    "plt.title('RMSE using SVD on Tag Matrix')"
   ]
  },
  {
   "cell_type": "code",
   "execution_count": null,
   "metadata": {},
   "outputs": [],
   "source": []
  },
  {
   "cell_type": "code",
   "execution_count": 149,
   "metadata": {},
   "outputs": [
    {
     "name": "stdout",
     "output_type": "stream",
     "text": [
      "alpha: 0.0, beta: 1.0\n",
      "Baseline Performance:  1.0175792025175758\n"
     ]
    },
    {
     "name": "stderr",
     "output_type": "stream",
     "text": [
      "/Users/rbais/anaconda3/lib/python3.7/site-packages/ipykernel_launcher.py:37: RuntimeWarning: divide by zero encountered in double_scalars\n"
     ]
    },
    {
     "name": "stdout",
     "output_type": "stream",
     "text": [
      "Spectral Clustering Performance:  1.9632986122893452\n",
      "alpha: 0.2, beta: 0.8\n",
      "Baseline Performance:  1.0049549541586613\n",
      "Spectral Clustering Performance:  1.0060084808076784\n",
      "alpha: 0.4, beta: 0.6\n",
      "Baseline Performance:  1.0055048698753635\n",
      "Spectral Clustering Performance:  1.0060084808076786\n",
      "alpha: 0.6, beta: 0.4\n",
      "Baseline Performance:  1.0057635570294519\n",
      "Spectral Clustering Performance:  1.0060084808076784\n",
      "alpha: 0.8, beta: 0.2\n",
      "Baseline Performance:  1.0059122003137193\n",
      "Spectral Clustering Performance:  1.0060084808076784\n",
      "alpha: 1.0, beta: 0.0\n",
      "Baseline Performance:  1.0060084808076784\n",
      "Spectral Clustering Performance:  1.0060084808076784\n"
     ]
    }
   ],
   "source": [
    "alphas = [a / 5.0 for a in range(0, 6)]\n",
    "RMSE_baseline = []\n",
    "RMSE_embeds = []\n",
    "\n",
    "for a in range(0, 6):\n",
    "    alpha = a / 5.0\n",
    "    beta = 1.0 - alpha\n",
    "    print ('alpha: %.1f, beta: %.1f' %(alpha, beta))\n",
    "    \n",
    "    rmse_baseline = collaborative_filtering(Rmu, Rmu, Rmt, alpha = alpha, beta = beta)\n",
    "    print ('Baseline Performance: ', rmse_baseline)\n",
    "    RMSE_baseline.append(rmse_baseline)\n",
    "    \n",
    "    rmse_emb = collaborative_filtering(Rmu, Rmu, v, alpha = alpha, beta = beta)\n",
    "    print ('Spectral Clustering Performance: ', rmse_emb)\n",
    "    RMSE_embeds.append(rmse_emb)\n",
    "    \n",
    "    "
   ]
  },
  {
   "cell_type": "code",
   "execution_count": 150,
   "metadata": {},
   "outputs": [
    {
     "data": {
      "text/plain": [
       "Text(0.5, 1.0, 'Tag Matrix RMSE Spectral Clustering Comparison using k=128')"
      ]
     },
     "execution_count": 150,
     "metadata": {},
     "output_type": "execute_result"
    },
    {
     "data": {
      "image/png": "[encoded data removed]",
      "text/plain": [
       "<Figure size 432x288 with 1 Axes>"
      ]
     },
     "metadata": {
      "needs_background": "light"
     },
     "output_type": "display_data"
    }
   ],
   "source": [
    "plt.plot(betas, RMSE_baseline)\n",
    "plt.plot(betas, RMSE_embeds)\n",
    "plt.xlabel('Beta')\n",
    "plt.ylabel('RMSE')\n",
    "plt.legend(['Baseline', 'Spectral Clustering'])\n",
    "\n",
    "plt.title('Tag Matrix RMSE Spectral Clustering Comparison using k=128')"
   ]
  },
  {
   "cell_type": "code",
   "execution_count": null,
   "metadata": {},
   "outputs": [],
   "source": []
  },
  {
   "cell_type": "code",
   "execution_count": 151,
   "metadata": {},
   "outputs": [],
   "source": [
    "def JL_reduction(k, M):\n",
    "    # given an M x N matrix, turn into M x k\n",
    "    # k x N by N x M = k x M\n",
    "    M_t = np.array(M).T\n",
    "    n = M_t.shape[0]\n",
    "    dim = np.random.randn(k, n)\n",
    "    reduced_T = np.dot(dim, M_t)\n",
    "    return reduced_T.T"
   ]
  },
  {
   "cell_type": "code",
   "execution_count": 152,
   "metadata": {},
   "outputs": [
    {
     "name": "stdout",
     "output_type": "stream",
     "text": [
      "alpha: 0.0, beta: 1.0\n",
      "Baseline Performance:  1.0175792025175758\n",
      "Performance with JL n_components=3: 1.256399\n",
      "Performance with JL n_components=5: 1.131294\n",
      "Performance with JL n_components=10: 1.307042\n",
      "Performance with JL n_components=25: 1.125453\n",
      "Performance with JL n_components=50: 1.202518\n",
      "alpha: 0.2, beta: 0.8\n",
      "Baseline Performance:  1.0049549541586613\n",
      "Performance with JL n_components=3: 1.038501\n",
      "Performance with JL n_components=5: 1.040664\n",
      "Performance with JL n_components=10: 1.015804\n",
      "Performance with JL n_components=25: 1.004634\n",
      "Performance with JL n_components=50: 1.000660\n",
      "alpha: 0.4, beta: 0.6\n",
      "Baseline Performance:  1.0055048698753635\n",
      "Performance with JL n_components=3: 1.000186\n",
      "Performance with JL n_components=5: 1.012971\n",
      "Performance with JL n_components=10: 1.007916\n",
      "Performance with JL n_components=25: 1.007475\n",
      "Performance with JL n_components=50: 1.006214\n",
      "alpha: 0.6, beta: 0.4\n",
      "Baseline Performance:  1.0057635570294519\n",
      "Performance with JL n_components=3: 1.004822\n",
      "Performance with JL n_components=5: 1.005268\n",
      "Performance with JL n_components=10: 1.006755\n",
      "Performance with JL n_components=25: 1.007336\n",
      "Performance with JL n_components=50: 1.006852\n",
      "alpha: 0.8, beta: 0.2\n",
      "Baseline Performance:  1.0059122003137193\n",
      "Performance with JL n_components=3: 1.007617\n",
      "Performance with JL n_components=5: 1.006077\n",
      "Performance with JL n_components=10: 1.006445\n",
      "Performance with JL n_components=25: 1.005730\n",
      "Performance with JL n_components=50: 1.006092\n",
      "alpha: 1.0, beta: 0.0\n",
      "Baseline Performance:  1.0060084808076784\n",
      "Performance with JL n_components=3: 1.006008\n",
      "Performance with JL n_components=5: 1.006008\n",
      "Performance with JL n_components=10: 1.006008\n",
      "Performance with JL n_components=25: 1.006008\n",
      "Performance with JL n_components=50: 1.006008\n"
     ]
    }
   ],
   "source": [
    "alphas = [a / 5.0 for a in range(0, 6)]\n",
    "num_component_hyperparams = [3, 5, 10, 25, 50]\n",
    "RMSE_baseline = []\n",
    "RMSE_hyperparam_vals = np.zeros((len(num_component_hyperparams), len(alphas)))\n",
    "\n",
    "for a in range(0, 6):\n",
    "    alpha = a / 5.0\n",
    "    beta = 1.0 - alpha\n",
    "    print ('alpha: %.1f, beta: %.1f' %(alpha, beta))\n",
    "    \n",
    "    rmse_baseline = collaborative_filtering(Rmu, Rmu, Rmt, alpha = alpha, beta = beta)\n",
    "    print ('Baseline Performance: ', rmse_baseline)\n",
    "    RMSE_baseline.append(rmse_baseline)\n",
    "    \n",
    "    for i, n in enumerate(num_component_hyperparams):\n",
    "        reduced = JL_reduction(n, Rmt)\n",
    "        rmse_jl = collaborative_filtering(Rmu, Rmu, reduced, alpha = alpha, beta = beta)\n",
    "        \n",
    "        RMSE_hyperparam_vals[i][a] = rmse_jl\n",
    "        print ('Performance with JL n_components=%d: %f' %(n, rmse_jl))"
   ]
  },
  {
   "cell_type": "code",
   "execution_count": 153,
   "metadata": {},
   "outputs": [
    {
     "data": {
      "text/plain": [
       "Text(0.5, 1.0, 'RMSE using JL on Tag Matrix')"
      ]
     },
     "execution_count": 153,
     "metadata": {},
     "output_type": "execute_result"
    },
    {
     "data": {
      "image/png": "[encoded data removed]",
      "text/plain": [
       "<Figure size 432x288 with 1 Axes>"
      ]
     },
     "metadata": {
      "needs_background": "light"
     },
     "output_type": "display_data"
    }
   ],
   "source": [
    "betas = [1 - alpha for alpha in alphas]\n",
    "#plt.plot(betas, RMSE_baseline)\n",
    "for i in range(len(num_component_hyperparams)):\n",
    "    plt.plot(betas, RMSE_hyperparam_vals[i])\n",
    "plt.legend(['JL-reduction, n=%d' %(n) for i, n in enumerate(num_component_hyperparams)])\n",
    "plt.xlabel('Beta')\n",
    "plt.ylabel('RMSE')\n",
    "plt.title('RMSE using JL on Tag Matrix')"
   ]
  },
  {
   "cell_type": "code",
   "execution_count": 154,
   "metadata": {},
   "outputs": [],
   "source": [
    "import random\n",
    "\n",
    "def construct_missing_mat(Rmt, rate):\n",
    "    partialMatrix = np.zeros(np.shape(Rmt))\n",
    "    filled_positions = []\n",
    "    for i in range(np.shape(Rmt)[0]):\n",
    "        for j in range(np.shape(Rmt)[1]):\n",
    "            if Rmt[i,j] != 0:\n",
    "                filled_positions.append((i,j))\n",
    "    numToKeep = int(rate*len(filled_positions))\n",
    "    keptElems = random.sample(population=filled_positions, k=numToKeep)\n",
    "    for (i,j) in keptElems:\n",
    "        partialMatrix[i,j] = Rmt[i,j]\n",
    "    return keptElems, partialMatrix\n"
   ]
  },
  {
   "cell_type": "code",
   "execution_count": 155,
   "metadata": {
    "scrolled": false
   },
   "outputs": [],
   "source": [
    "train_set, train_Rmt = construct_missing_mat(Rmt, rate=0.9)\n",
    "\n",
    "m_1 = 0.01\n",
    "m_2 = 0.01\n",
    "factors = 25\n",
    "lambda_1 = 0.1\n",
    "lambda_2 = 0.1\n",
    "learned_p = dict()\n",
    "learned_q = dict()\n",
    "\n",
    "for k in range(20):\n",
    "    for (i,j) in train_set:\n",
    "        r = train_Rmt[i,j]\n",
    "        if i not in learned_q:\n",
    "            learned_q[i] = np.array([np.random.random() - 0.5 for l in range(factors)])\n",
    "        if j not in learned_p:\n",
    "            learned_p[j] = np.array([np.random.random() - 0.5 for l in range(factors)])\n",
    "        epsilon = 2*(r - np.dot(learned_q[i], learned_p[j]))\n",
    "        learned_q[i] = learned_q[i] + m_1*(epsilon*learned_p[j] - 2*lambda_2*learned_q[i])\n",
    "        learned_p[j] = learned_p[j] + m_2*(epsilon*learned_q[i] - 2*lambda_2*learned_p[j])\n",
    "        \n",
    "predicted_Rmt = np.zeros(np.shape(Rmt))\n",
    "\n",
    "for i in learned_q:\n",
    "    for j in learned_p:\n",
    "        predicted_Rmt[i,j] = np.dot(learned_q[i], learned_p[j])"
   ]
  },
  {
   "cell_type": "code",
   "execution_count": 160,
   "metadata": {},
   "outputs": [
    {
     "name": "stdout",
     "output_type": "stream",
     "text": [
      "alpha: 0.0, beta: 1.0\n",
      "Baseline Performance:  1.0175792025175758\n",
      "Latent Factor Analysis Performance:  1.0457322443388841\n",
      "alpha: 0.2, beta: 0.8\n",
      "Baseline Performance:  1.0049549541586613\n",
      "Latent Factor Analysis Performance:  1.020405692349136\n",
      "alpha: 0.4, beta: 0.6\n",
      "Baseline Performance:  1.0055048698753635\n",
      "Latent Factor Analysis Performance:  0.9953120945178665\n",
      "alpha: 0.6, beta: 0.4\n",
      "Baseline Performance:  1.0057635570294519\n",
      "Latent Factor Analysis Performance:  0.9948458580938814\n",
      "alpha: 0.8, beta: 0.2\n",
      "Baseline Performance:  1.0059122003137193\n",
      "Latent Factor Analysis Performance:  1.017619949775365\n",
      "alpha: 1.0, beta: 0.0\n",
      "Baseline Performance:  1.0060084808076784\n",
      "Latent Factor Analysis Performance:  1.0060084808076784\n"
     ]
    }
   ],
   "source": [
    "alphas = [a / 5.0 for a in range(0, 6)]\n",
    "RMSE_baseline = []\n",
    "RMSE_facs = []\n",
    "\n",
    "for a in range(0, 6):\n",
    "    alpha = a / 5.0\n",
    "    beta = 1.0 - alpha\n",
    "    print ('alpha: %.1f, beta: %.1f' %(alpha, beta))\n",
    "    \n",
    "    rmse_baseline = collaborative_filtering(Rmu, Rmu, Rmt, alpha = alpha, beta = beta)\n",
    "    print ('Baseline Performance: ', rmse_baseline)\n",
    "    RMSE_baseline.append(rmse_baseline)\n",
    "    \n",
    "    rmse_fac = collaborative_filtering(Rmu, Rmu, predicted_Rmt, alpha = alpha, beta = beta)\n",
    "    print ('Latent Factor Analysis Performance: ', rmse_fac)\n",
    "    RMSE_facs.append(rmse_fac)\n",
    "    \n",
    "    "
   ]
  },
  {
   "cell_type": "code",
   "execution_count": 161,
   "metadata": {},
   "outputs": [
    {
     "data": {
      "text/plain": [
       "Text(0.5, 1.0, 'Tag Matrix RMSE Latent Factor Analysis Comparison using 50 factors')"
      ]
     },
     "execution_count": 161,
     "metadata": {},
     "output_type": "execute_result"
    },
    {
     "data": {
      "image/png": "[encoded data removed]",
      "text/plain": [
       "<Figure size 432x288 with 1 Axes>"
      ]
     },
     "metadata": {
      "needs_background": "light"
     },
     "output_type": "display_data"
    }
   ],
   "source": [
    "plt.plot(betas, RMSE_baseline)\n",
    "plt.plot(betas, RMSE_facs)\n",
    "plt.xlabel('Beta')\n",
    "plt.ylabel('RMSE')\n",
    "plt.legend(['Baseline', 'Latent Factor Analysis'])\n",
    "\n",
    "plt.title('Tag Matrix RMSE Latent Factor Analysis Comparison using 50 factors')"
   ]
  },
  {
   "cell_type": "code",
   "execution_count": null,
   "metadata": {},
   "outputs": [],
   "source": []
  },
  {
   "cell_type": "code",
   "execution_count": null,
   "metadata": {},
   "outputs": [],
   "source": []
  },
  {
   "cell_type": "code",
   "execution_count": null,
   "metadata": {},
   "outputs": [],
   "source": []
  },
  {
   "cell_type": "code",
   "execution_count": null,
   "metadata": {},
   "outputs": [],
   "source": []
  },
  {
   "cell_type": "code",
   "execution_count": null,
   "metadata": {},
   "outputs": [],
   "source": []
  },
  {
   "cell_type": "code",
   "execution_count": null,
   "metadata": {},
   "outputs": [],
   "source": []
  },
  {
   "cell_type": "code",
   "execution_count": null,
   "metadata": {},
   "outputs": [],
   "source": []
  },
  {
   "cell_type": "code",
   "execution_count": null,
   "metadata": {},
   "outputs": [],
   "source": []
  }
 ],
 "metadata": {
  "kernelspec": {
   "display_name": "Python 3",
   "language": "python",
   "name": "python3"
  },
  "language_info": {
   "codemirror_mode": {
    "name": "ipython",
    "version": 3
   },
   "file_extension": ".py",
   "mimetype": "text/x-python",
   "name": "python",
   "nbconvert_exporter": "python",
   "pygments_lexer": "ipython3",
   "version": "3.7.1"
  }
 },
 "nbformat": 4,
 "nbformat_minor": 2
}
